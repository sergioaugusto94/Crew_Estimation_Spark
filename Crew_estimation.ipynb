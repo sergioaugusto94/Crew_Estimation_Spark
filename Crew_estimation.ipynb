{
  "nbformat": 4,
  "nbformat_minor": 0,
  "metadata": {
    "colab": {
      "name": "Crew_estimation.ipynb",
      "provenance": [],
      "collapsed_sections": [
        "lWLmxxian45Y",
        "IKij7nGqQuyU",
        "ZVd5EaJnQ5br",
        "XBkpoo5gRCy-",
        "K0kDez2lRKg0"
      ],
      "authorship_tag": "ABX9TyOOmhy9zDqyaxfcoHYT3O8t",
      "include_colab_link": true
    },
    "kernelspec": {
      "name": "python3",
      "display_name": "Python 3"
    },
    "language_info": {
      "name": "python"
    }
  },
  "cells": [
    {
      "cell_type": "markdown",
      "metadata": {
        "id": "view-in-github",
        "colab_type": "text"
      },
      "source": [
        "<a href=\"https://colab.research.google.com/github/sergioaugusto94/hello-world/blob/main/Crew_estimation.ipynb\" target=\"_parent\"><img src=\"https://colab.research.google.com/assets/colab-badge.svg\" alt=\"Open In Colab\"/></a>"
      ]
    },
    {
      "cell_type": "markdown",
      "metadata": {
        "id": "lWLmxxian45Y"
      },
      "source": [
        "# Objetivo"
      ]
    },
    {
      "cell_type": "markdown",
      "metadata": {
        "id": "YFwalbGEnAe0"
      },
      "source": [
        "O objetivo desse trabalho é determinar a tripulação necessária para a operação de um navio, usando dados de entrada como tamanho, peso, capacidade de passageiros e idade do navio. Nesse trabalho foi usado a biblioteca pyspark juntamente com seu pacote de aprendizado de máquina."
      ]
    },
    {
      "cell_type": "markdown",
      "metadata": {
        "id": "IKij7nGqQuyU"
      },
      "source": [
        "# Carregamento do ambiente Spark e da base de dados"
      ]
    },
    {
      "cell_type": "code",
      "metadata": {
        "id": "2K2gce2aRakp"
      },
      "source": [
        "!apt-get install openjdk-8-jdk-headless -qq > /dev/null\n",
        "!wget -q https://ftp.unicamp.br/pub/apache/spark/spark-3.1.2/spark-3.1.2-bin-hadoop3.2.tgz\n",
        "!tar xf spark-3.1.2-bin-hadoop3.2.tgz\n",
        "!pip install -q findspark\n",
        "import os\n",
        "os.environ[\"JAVA_HOME\"] = \"/usr/lib/jvm/java-8-openjdk-amd64\"\n",
        "os.environ[\"SPARK_HOME\"] = \"/content/spark-3.1.2-bin-hadoop3.2\"\n",
        "import findspark\n",
        "findspark.init()\n"
      ],
      "execution_count": 6,
      "outputs": []
    },
    {
      "cell_type": "code",
      "metadata": {
        "id": "2tobVl0WRn51"
      },
      "source": [
        "from pyspark.sql import SparkSession\n",
        "\n",
        "spark = SparkSession.builder.appName('crew_ship').getOrCreate()"
      ],
      "execution_count": 7,
      "outputs": []
    },
    {
      "cell_type": "code",
      "metadata": {
        "id": "9NHLKXBVRuRK"
      },
      "source": [
        "df = spark.read.csv('/content/cruise_ship_info.csv', header = True, inferSchema = True)"
      ],
      "execution_count": null,
      "outputs": []
    },
    {
      "cell_type": "code",
      "metadata": {
        "colab": {
          "base_uri": "https://localhost:8080/"
        },
        "id": "lgI9AF9KR-rg",
        "outputId": "98a0be99-1ffe-47ea-9117-ff521fc9d93c"
      },
      "source": [
        "df.printSchema()"
      ],
      "execution_count": null,
      "outputs": [
        {
          "output_type": "stream",
          "text": [
            "root\n",
            " |-- Ship_name: string (nullable = true)\n",
            " |-- Cruise_line: string (nullable = true)\n",
            " |-- Age: integer (nullable = true)\n",
            " |-- Tonnage: double (nullable = true)\n",
            " |-- passengers: double (nullable = true)\n",
            " |-- length: double (nullable = true)\n",
            " |-- cabins: double (nullable = true)\n",
            " |-- passenger_density: double (nullable = true)\n",
            " |-- crew: double (nullable = true)\n",
            "\n"
          ],
          "name": "stdout"
        }
      ]
    },
    {
      "cell_type": "code",
      "metadata": {
        "colab": {
          "base_uri": "https://localhost:8080/"
        },
        "id": "aE-DzmDzR8oh",
        "outputId": "4559a2ea-69b1-4b55-99dc-7354ea841b71"
      },
      "source": [
        "df.show(5)"
      ],
      "execution_count": null,
      "outputs": [
        {
          "output_type": "stream",
          "text": [
            "+-----------+-----------+---+------------------+----------+------+------+-----------------+----+\n",
            "|  Ship_name|Cruise_line|Age|           Tonnage|passengers|length|cabins|passenger_density|crew|\n",
            "+-----------+-----------+---+------------------+----------+------+------+-----------------+----+\n",
            "|    Journey|    Azamara|  6|30.276999999999997|      6.94|  5.94|  3.55|            42.64|3.55|\n",
            "|      Quest|    Azamara|  6|30.276999999999997|      6.94|  5.94|  3.55|            42.64|3.55|\n",
            "|Celebration|   Carnival| 26|            47.262|     14.86|  7.22|  7.43|             31.8| 6.7|\n",
            "|   Conquest|   Carnival| 11|             110.0|     29.74|  9.53| 14.88|            36.99|19.1|\n",
            "|    Destiny|   Carnival| 17|           101.353|     26.42|  8.92| 13.21|            38.36|10.0|\n",
            "+-----------+-----------+---+------------------+----------+------+------+-----------------+----+\n",
            "only showing top 5 rows\n",
            "\n"
          ],
          "name": "stdout"
        }
      ]
    },
    {
      "cell_type": "code",
      "metadata": {
        "id": "l68g_yQBSP_f"
      },
      "source": [
        "from pyspark.ml.linalg import Vectors\n",
        "from pyspark.ml.feature import VectorAssembler, StringIndexer"
      ],
      "execution_count": null,
      "outputs": []
    },
    {
      "cell_type": "markdown",
      "metadata": {
        "id": "ZVd5EaJnQ5br"
      },
      "source": [
        "# Manipulação da Base de Dados"
      ]
    },
    {
      "cell_type": "markdown",
      "metadata": {
        "id": "bJHMRQVuSoTB"
      },
      "source": [
        "Vamos separar as colunas necessárias para realizar o treinamento do algoritmo. \n",
        "- Ship_name será descartada pois não possui nenhuma relação com o número de tripulantes necessários.\n",
        "- Cruise_line é uma variável categórica, portanto, vamos convertê-la em uma variável discreta através da função StringIndexer. "
      ]
    },
    {
      "cell_type": "code",
      "metadata": {
        "colab": {
          "base_uri": "https://localhost:8080/"
        },
        "id": "s4zQl2ucSiLo",
        "outputId": "d6ff6c56-083c-4a79-9c95-5b379396c04d"
      },
      "source": [
        "df.columns"
      ],
      "execution_count": null,
      "outputs": [
        {
          "output_type": "execute_result",
          "data": {
            "text/plain": [
              "['Ship_name',\n",
              " 'Cruise_line',\n",
              " 'Age',\n",
              " 'Tonnage',\n",
              " 'passengers',\n",
              " 'length',\n",
              " 'cabins',\n",
              " 'passenger_density',\n",
              " 'crew']"
            ]
          },
          "metadata": {
            "tags": []
          },
          "execution_count": 7
        }
      ]
    },
    {
      "cell_type": "markdown",
      "metadata": {
        "id": "X6zMnF9e4ne-"
      },
      "source": [
        "Fazendo a conversão da coluna categórica em uma coluna com valores discretos."
      ]
    },
    {
      "cell_type": "code",
      "metadata": {
        "colab": {
          "base_uri": "https://localhost:8080/"
        },
        "id": "mOiUnEHpYMh7",
        "outputId": "ec970760-d7fd-4465-fae1-64b5bd070d6c"
      },
      "source": [
        "stringIndexer = StringIndexer(inputCol=\"Cruise_line\", outputCol=\"Cruise_line_indexed\",\n",
        "    stringOrderType=\"frequencyDesc\").fit(df)\n",
        "\n",
        "df = stringIndexer.transform(df)\n",
        "\n",
        "df.show(5)"
      ],
      "execution_count": null,
      "outputs": [
        {
          "output_type": "stream",
          "text": [
            "+-----------+-----------+---+------------------+----------+------+------+-----------------+----+-------------------+\n",
            "|  Ship_name|Cruise_line|Age|           Tonnage|passengers|length|cabins|passenger_density|crew|Cruise_line_indexed|\n",
            "+-----------+-----------+---+------------------+----------+------+------+-----------------+----+-------------------+\n",
            "|    Journey|    Azamara|  6|30.276999999999997|      6.94|  5.94|  3.55|            42.64|3.55|               16.0|\n",
            "|      Quest|    Azamara|  6|30.276999999999997|      6.94|  5.94|  3.55|            42.64|3.55|               16.0|\n",
            "|Celebration|   Carnival| 26|            47.262|     14.86|  7.22|  7.43|             31.8| 6.7|                1.0|\n",
            "|   Conquest|   Carnival| 11|             110.0|     29.74|  9.53| 14.88|            36.99|19.1|                1.0|\n",
            "|    Destiny|   Carnival| 17|           101.353|     26.42|  8.92| 13.21|            38.36|10.0|                1.0|\n",
            "+-----------+-----------+---+------------------+----------+------+------+-----------------+----+-------------------+\n",
            "only showing top 5 rows\n",
            "\n"
          ],
          "name": "stdout"
        }
      ]
    },
    {
      "cell_type": "markdown",
      "metadata": {
        "id": "HSysI9pRT_BJ"
      },
      "source": [
        "Vamos criar o vetor contendo as colunas com os atributos de entrada do algoritmo. O vetor é formato passado para a função que cria o algoritmo de Regressão na biblioteca pyspark."
      ]
    },
    {
      "cell_type": "code",
      "metadata": {
        "id": "lf6Rqd3NSjTx"
      },
      "source": [
        "atributos = VectorAssembler(inputCols = ['Age', 'Tonnage', 'passengers', \n",
        "                                         'length', 'cabins', 'passenger_density', 'Cruise_line_indexed'], \n",
        "                            outputCol = 'features')"
      ],
      "execution_count": null,
      "outputs": []
    },
    {
      "cell_type": "code",
      "metadata": {
        "colab": {
          "base_uri": "https://localhost:8080/"
        },
        "id": "uZSqW0NwWm1q",
        "outputId": "6875bdb7-2b13-416a-c761-046cfce3f371"
      },
      "source": [
        "#unido o vetor criado, ao dataframe inicial\n",
        "\n",
        "saida = atributos.transform(df)\n",
        "\n",
        "saida.printSchema()"
      ],
      "execution_count": null,
      "outputs": [
        {
          "output_type": "stream",
          "text": [
            "root\n",
            " |-- Ship_name: string (nullable = true)\n",
            " |-- Cruise_line: string (nullable = true)\n",
            " |-- Age: integer (nullable = true)\n",
            " |-- Tonnage: double (nullable = true)\n",
            " |-- passengers: double (nullable = true)\n",
            " |-- length: double (nullable = true)\n",
            " |-- cabins: double (nullable = true)\n",
            " |-- passenger_density: double (nullable = true)\n",
            " |-- crew: double (nullable = true)\n",
            " |-- Cruise_line_indexed: double (nullable = false)\n",
            " |-- features: vector (nullable = true)\n",
            "\n"
          ],
          "name": "stdout"
        }
      ]
    },
    {
      "cell_type": "code",
      "metadata": {
        "colab": {
          "base_uri": "https://localhost:8080/"
        },
        "id": "VK6RohWt6kq9",
        "outputId": "f5cf3d7c-84e7-49e5-9337-139cfd64934c"
      },
      "source": [
        "saida.show(5)"
      ],
      "execution_count": null,
      "outputs": [
        {
          "output_type": "stream",
          "text": [
            "+-----------+-----------+---+------------------+----------+------+------+-----------------+----+-------------------+--------------------+\n",
            "|  Ship_name|Cruise_line|Age|           Tonnage|passengers|length|cabins|passenger_density|crew|Cruise_line_indexed|            features|\n",
            "+-----------+-----------+---+------------------+----------+------+------+-----------------+----+-------------------+--------------------+\n",
            "|    Journey|    Azamara|  6|30.276999999999997|      6.94|  5.94|  3.55|            42.64|3.55|               16.0|[6.0,30.276999999...|\n",
            "|      Quest|    Azamara|  6|30.276999999999997|      6.94|  5.94|  3.55|            42.64|3.55|               16.0|[6.0,30.276999999...|\n",
            "|Celebration|   Carnival| 26|            47.262|     14.86|  7.22|  7.43|             31.8| 6.7|                1.0|[26.0,47.262,14.8...|\n",
            "|   Conquest|   Carnival| 11|             110.0|     29.74|  9.53| 14.88|            36.99|19.1|                1.0|[11.0,110.0,29.74...|\n",
            "|    Destiny|   Carnival| 17|           101.353|     26.42|  8.92| 13.21|            38.36|10.0|                1.0|[17.0,101.353,26....|\n",
            "+-----------+-----------+---+------------------+----------+------+------+-----------------+----+-------------------+--------------------+\n",
            "only showing top 5 rows\n",
            "\n"
          ],
          "name": "stdout"
        }
      ]
    },
    {
      "cell_type": "markdown",
      "metadata": {
        "id": "2jww-9fa6x6J"
      },
      "source": [
        "Criação do Dataframe que será passado ao algoritmo de regressão, contendo as instâncias de entrada ('features') e outra coluna contendo os rótulos ('crew') de cada registro. "
      ]
    },
    {
      "cell_type": "code",
      "metadata": {
        "colab": {
          "base_uri": "https://localhost:8080/"
        },
        "id": "dEXdk06c6hIz",
        "outputId": "904d7613-cb10-4b29-9ab1-8d2b1f393a48"
      },
      "source": [
        "final_df = saida.select('features', 'crew')\n",
        "final_df.show(3)"
      ],
      "execution_count": null,
      "outputs": [
        {
          "output_type": "stream",
          "text": [
            "+--------------------+----+\n",
            "|            features|crew|\n",
            "+--------------------+----+\n",
            "|[6.0,30.276999999...|3.55|\n",
            "|[6.0,30.276999999...|3.55|\n",
            "|[26.0,47.262,14.8...| 6.7|\n",
            "+--------------------+----+\n",
            "only showing top 3 rows\n",
            "\n"
          ],
          "name": "stdout"
        }
      ]
    },
    {
      "cell_type": "markdown",
      "metadata": {
        "id": "Dc5JTWcXGl4L"
      },
      "source": [
        "Divisão da dataframe em treinamento e teste."
      ]
    },
    {
      "cell_type": "code",
      "metadata": {
        "id": "564oNXFSXDo8"
      },
      "source": [
        "train_data, test_data = final_df.randomSplit([0.7, 0.3])"
      ],
      "execution_count": null,
      "outputs": []
    },
    {
      "cell_type": "markdown",
      "metadata": {
        "id": "XBkpoo5gRCy-"
      },
      "source": [
        "# Treinamento e teste do algoritmo"
      ]
    },
    {
      "cell_type": "markdown",
      "metadata": {
        "id": "Y_3Nvy5PGydN"
      },
      "source": [
        "Criação do algoritmo de regressão, passando a informação que a coluna contendo os valores rotulados se chama 'crew'."
      ]
    },
    {
      "cell_type": "code",
      "metadata": {
        "id": "M4exTToFGy4i"
      },
      "source": [
        "from pyspark.ml.regression import LinearRegression\n",
        "\n",
        "regressor = LinearRegression(labelCol='crew')"
      ],
      "execution_count": null,
      "outputs": []
    },
    {
      "cell_type": "markdown",
      "metadata": {
        "id": "MRNqcu0aHu00"
      },
      "source": [
        "Treinamento do regressor, com o dataframe de treinamento."
      ]
    },
    {
      "cell_type": "code",
      "metadata": {
        "id": "MmdvFQisHrVj"
      },
      "source": [
        "regressor = regressor.fit(train_data)"
      ],
      "execution_count": null,
      "outputs": []
    },
    {
      "cell_type": "markdown",
      "metadata": {
        "id": "K0kDez2lRKg0"
      },
      "source": [
        "# Avaliação da performance do algoritmo"
      ]
    },
    {
      "cell_type": "markdown",
      "metadata": {
        "id": "SmhI0AOUKV-c"
      },
      "source": [
        "Vamos fazer agora a análise de alguns parâmetros estatísticos de forma a avaliar a performance do algoritmo."
      ]
    },
    {
      "cell_type": "code",
      "metadata": {
        "id": "3TPxJgyoH0x4"
      },
      "source": [
        "test_results = regressor.evaluate(test_data)"
      ],
      "execution_count": null,
      "outputs": []
    },
    {
      "cell_type": "code",
      "metadata": {
        "colab": {
          "base_uri": "https://localhost:8080/"
        },
        "id": "FfmjllL7ICwt",
        "outputId": "ca4ea9ce-1b4c-46b7-90f3-e7d2984770d5"
      },
      "source": [
        "test_results.r2"
      ],
      "execution_count": null,
      "outputs": [
        {
          "output_type": "execute_result",
          "data": {
            "text/plain": [
              "0.9564569312539687"
            ]
          },
          "metadata": {
            "tags": []
          },
          "execution_count": 17
        }
      ]
    },
    {
      "cell_type": "code",
      "metadata": {
        "colab": {
          "base_uri": "https://localhost:8080/"
        },
        "id": "oM6qo1IHKNyi",
        "outputId": "630343fc-6206-4740-d4a0-c5ecb3652b03"
      },
      "source": [
        "rmse = test_results.rootMeanSquaredError\n",
        "\n",
        "rmse"
      ],
      "execution_count": null,
      "outputs": [
        {
          "output_type": "execute_result",
          "data": {
            "text/plain": [
              "0.716186640880709"
            ]
          },
          "metadata": {
            "tags": []
          },
          "execution_count": 18
        }
      ]
    },
    {
      "cell_type": "code",
      "metadata": {
        "colab": {
          "base_uri": "https://localhost:8080/"
        },
        "id": "4mZ7ofUuIF1K",
        "outputId": "ee2df77e-7d42-4461-a2bd-1aa2c933d945"
      },
      "source": [
        "final_df.select('crew').describe().show()\n"
      ],
      "execution_count": null,
      "outputs": [
        {
          "output_type": "stream",
          "text": [
            "+-------+-----------------+\n",
            "|summary|             crew|\n",
            "+-------+-----------------+\n",
            "|  count|              158|\n",
            "|   mean|7.794177215189873|\n",
            "| stddev|3.503486564627034|\n",
            "|    min|             0.59|\n",
            "|    max|             21.0|\n",
            "+-------+-----------------+\n",
            "\n"
          ],
          "name": "stdout"
        }
      ]
    },
    {
      "cell_type": "code",
      "metadata": {
        "colab": {
          "base_uri": "https://localhost:8080/"
        },
        "id": "67pC0iYqNI8l",
        "outputId": "6f7d1755-724b-4275-cd5f-492e9372ba15"
      },
      "source": [
        "mean = final_df.select('crew').describe()\n",
        "mean = mean.select('crew').where(mean['summary'] == 'mean').collect()[0]['crew']\n",
        "mean = float(mean)\n",
        "\n",
        "rmse/mean"
      ],
      "execution_count": null,
      "outputs": [
        {
          "output_type": "execute_result",
          "data": {
            "text/plain": [
              "0.09188739505241825"
            ]
          },
          "metadata": {
            "tags": []
          },
          "execution_count": 21
        }
      ]
    },
    {
      "cell_type": "markdown",
      "metadata": {
        "id": "yLKzFog0MR36"
      },
      "source": [
        "A começar pelo coeficiente de determinação R2, quanto mais próximo de 1, melhor o modelo se ajusta à amostra estudada. No caso, temos o valor de 0.956, indicando que o regressor representa bem os dados apresentados. Agora comparando a média da coluna contendo os rótulos com o valor de rmse, vemos que rmse representa uma fração de 9% do valor médio. E ainda, o valor rmse é menor que o valor de desvio da amostra, indicando que é um bom modelo regressor."
      ]
    },
    {
      "cell_type": "code",
      "metadata": {
        "id": "jz79ilfuK_JN"
      },
      "source": [
        ""
      ],
      "execution_count": null,
      "outputs": []
    },
    {
      "cell_type": "markdown",
      "metadata": {
        "id": "jXGWtIsIQjag"
      },
      "source": [
        "# Deploiment"
      ]
    },
    {
      "cell_type": "markdown",
      "metadata": {
        "id": "6chNp8Nskl9R"
      },
      "source": [
        "Vamos separar a coluna da base de teste contendo as entradas do algoritmo, que serão usadas para obtermos a resposta de saída do algoritmo. "
      ]
    },
    {
      "cell_type": "code",
      "metadata": {
        "id": "a6ZyjsbhMcCE",
        "colab": {
          "base_uri": "https://localhost:8080/"
        },
        "outputId": "180cd2e0-205b-400f-a9b5-6ce9a773b502"
      },
      "source": [
        "inputs = test_data.select('features')\n",
        "\n",
        "inputs.show(5)"
      ],
      "execution_count": null,
      "outputs": [
        {
          "output_type": "stream",
          "text": [
            "+--------------------+\n",
            "|            features|\n",
            "+--------------------+\n",
            "|[5.0,160.0,36.34,...|\n",
            "|[6.0,30.276999999...|\n",
            "|[6.0,93.0,23.94,9...|\n",
            "|[6.0,110.23899999...|\n",
            "|[6.0,112.0,38.0,9...|\n",
            "+--------------------+\n",
            "only showing top 5 rows\n",
            "\n"
          ],
          "name": "stdout"
        }
      ]
    },
    {
      "cell_type": "code",
      "metadata": {
        "colab": {
          "base_uri": "https://localhost:8080/"
        },
        "id": "GrbhShRpmVN5",
        "outputId": "df5b61d1-b41d-4739-9340-a802a1568ee3"
      },
      "source": [
        "prediction = regressor.transform(inputs)\n",
        "\n",
        "prediction.show(5)"
      ],
      "execution_count": null,
      "outputs": [
        {
          "output_type": "stream",
          "text": [
            "+--------------------+------------------+\n",
            "|            features|        prediction|\n",
            "+--------------------+------------------+\n",
            "|[5.0,160.0,36.34,...|15.320764664059716|\n",
            "|[6.0,30.276999999...| 4.401680978331521|\n",
            "|[6.0,93.0,23.94,9...|10.714684059314152|\n",
            "|[6.0,110.23899999...|11.224410054302744|\n",
            "|[6.0,112.0,38.0,9...|11.435591218401935|\n",
            "+--------------------+------------------+\n",
            "only showing top 5 rows\n",
            "\n"
          ],
          "name": "stdout"
        }
      ]
    },
    {
      "cell_type": "code",
      "metadata": {
        "colab": {
          "base_uri": "https://localhost:8080/"
        },
        "id": "EzWy3kTQmqff",
        "outputId": "ad482ca4-0396-45cc-c491-6fa713f13c7f"
      },
      "source": [
        "test_data.show(5)"
      ],
      "execution_count": null,
      "outputs": [
        {
          "output_type": "stream",
          "text": [
            "+--------------------+-----+\n",
            "|            features| crew|\n",
            "+--------------------+-----+\n",
            "|[5.0,160.0,36.34,...| 13.6|\n",
            "|[6.0,30.276999999...| 3.55|\n",
            "|[6.0,93.0,23.94,9...|11.09|\n",
            "|[6.0,110.23899999...| 11.5|\n",
            "|[6.0,112.0,38.0,9...| 10.9|\n",
            "+--------------------+-----+\n",
            "only showing top 5 rows\n",
            "\n"
          ],
          "name": "stdout"
        }
      ]
    },
    {
      "cell_type": "code",
      "metadata": {
        "id": "dBl6w210oFqn"
      },
      "source": [
        "prediction = prediction.select('prediction').collect()\n",
        "previsao = []\n",
        "for row in prediction:\n",
        "  previsao.append(row[0])\n",
        "\n",
        "test_data1 = test_data.select('crew').collect()\n",
        "rotulos = []\n",
        "for row in test_data1:\n",
        "  rotulos.append(row[0])"
      ],
      "execution_count": null,
      "outputs": []
    },
    {
      "cell_type": "code",
      "metadata": {
        "colab": {
          "base_uri": "https://localhost:8080/",
          "height": 282
        },
        "id": "GuZP9y99sHK6",
        "outputId": "cef7707b-e398-4463-8cb3-c4ef59891c59"
      },
      "source": [
        "import matplotlib.pyplot as plt\n",
        "\n",
        "plt.plot(rotulos, previsao, 'ro', [0,14], [0,14], 'b--')\n",
        "plt.legend(['Output Algoritmo', 'Real'])\n",
        "plt.xlabel('Rótulos')\n",
        "plt.ylabel('Previsão')\n",
        "plt.show()"
      ],
      "execution_count": null,
      "outputs": [
        {
          "output_type": "display_data",
          "data": {
            "image/png": "[encoded data removed]",
            "text/plain": [
              "<Figure size 432x288 with 1 Axes>"
            ]
          },
          "metadata": {
            "tags": [],
            "needs_background": "light"
          }
        }
      ]
    },
    {
      "cell_type": "markdown",
      "metadata": {
        "id": "0s_O2RSKt_kT"
      },
      "source": [
        "Visualmente o modelo se comporta muito bem ao prever a quantidade de tripulantes."
      ]
    }
  ]
}